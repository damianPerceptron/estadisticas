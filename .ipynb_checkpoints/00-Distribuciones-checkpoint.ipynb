{
 "cells": [
  {
   "cell_type": "code",
   "execution_count": 369,
   "metadata": {},
   "outputs": [],
   "source": [
    "import numpy as np\n",
    "import matplotlib.pyplot as plot\n",
    "import seaborn as sns\n",
    "%matplotlib inline"
   ]
  },
  {
   "cell_type": "markdown",
   "metadata": {},
   "source": [
    "# 1. <font color='green'> gráfica distribución normal</font>"
   ]
  },
  {
   "cell_type": "code",
   "execution_count": 370,
   "metadata": {},
   "outputs": [
    {
     "data": {
      "image/png": "[encoded data removed]",
      "text/plain": [
       "<Figure size 432x288 with 1 Axes>"
      ]
     },
     "metadata": {
      "needs_background": "light"
     },
     "output_type": "display_data"
    },
    {
     "name": "stdout",
     "output_type": "stream",
     "text": [
      "media  40102.865827262984\n",
      "median 40117.72937666444\n",
      "std    13102.043807301916\n"
     ]
    }
   ],
   "source": [
    "#paso la media, la std y la cantidad de sucesos:\n",
    "#media = promedio de sueldos\n",
    "ingresos = np.random.normal(40000, 13000, 7000)\n",
    "bins=50\n",
    "plot.hist(ingresos, bins)\n",
    "plot.show()\n",
    "\n",
    "print(\"media \", np.mean(ingresos))\n",
    "print(\"median\", np.median(ingresos))\n",
    "print(\"std   \", np.std(ingresos))"
   ]
  },
  {
   "cell_type": "code",
   "execution_count": 371,
   "metadata": {},
   "outputs": [
    {
     "data": {
      "text/plain": [
       "<matplotlib.axes._subplots.AxesSubplot at 0x2107e5bd100>"
      ]
     },
     "execution_count": 371,
     "metadata": {},
     "output_type": "execute_result"
    },
    {
     "data": {
      "image/png": "[encoded data removed]",
      "text/plain": [
       "<Figure size 432x288 with 1 Axes>"
      ]
     },
     "metadata": {
      "needs_background": "light"
     },
     "output_type": "display_data"
    }
   ],
   "source": [
    "sns.distplot(ingresos)"
   ]
  },
  {
   "cell_type": "markdown",
   "metadata": {},
   "source": [
    "## 1.1 notas"
   ]
  },
  {
   "cell_type": "markdown",
   "metadata": {},
   "source": [
    "1. P(X <= x) = probabilidad de que Equis tenga un valor menor o igual a equis\n",
    "2. Z = (x - µ) / σ: normalizar valores: equis menos la media sobre la std (para ir a la tabla)"
   ]
  },
  {
   "cell_type": "markdown",
   "metadata": {},
   "source": [
    "**ejercicio: probabilidad de suceso de un sueldo equis**\n",
    "\n",
    "**tomo los datos de la distribución anterior**"
   ]
  },
  {
   "cell_type": "code",
   "execution_count": 372,
   "metadata": {},
   "outputs": [
    {
     "name": "stdout",
     "output_type": "stream",
     "text": [
      "probabilidad 1:  98.915  (que el sueldo sea <= 70000 )\n",
      "probabilidad 2: 0.99  (que el sueldo sea >= 70000 )\n",
      "mean:  0.0\n",
      "variance:  1.0\n",
      "skew:  0.0\n",
      "kurtosis:  0.0\n"
     ]
    }
   ],
   "source": [
    "from scipy.stats import norm\n",
    "mu = 39989.46476 #mean\n",
    "sigma = 12878.74956 #std\n",
    "x = 70000 #sueldo: valor a predecir\n",
    "y = 0\n",
    "\n",
    "#CON LA RESTA CALCULO LA PROBABILIDAD ENTRE UN RANGO:\n",
    "cdf_probability = norm.cdf(x, mu, sigma) - norm.cdf(y, mu, sigma)\n",
    "#PERO ESTE RESULTADO ME ARROJA LA PROBABILIDAD \"A LA IZQUIERDA\", O SEA <= AL SUELDO\n",
    "print(\"probabilidad 1: \", np.around(cdf_probability*100,3), \" (que el sueldo sea <=\",x,\")\")\n",
    "\n",
    "#OTRA FORMA, SIN EL -1\n",
    "print(\"probabilidad 2:\", np.around(norm.sf(x, mu, sigma)*100,3),\" (que el sueldo sea >=\",x,\")\")\n",
    "\n",
    "mean, var, skew, kurt = norm.stats(moments='mvsk')\n",
    "print(\"mean: \", mean)\n",
    "print(\"variance: \", var)\n",
    "print(\"skew: \", skew)\n",
    "print(\"kurtosis: \", kurt)"
   ]
  },
  {
   "cell_type": "markdown",
   "metadata": {},
   "source": [
    "**otro ejercicio**\n",
    "\n",
    "con una media de 300, std 50, calcular la probabilidad de que el valor sea > 362"
   ]
  },
  {
   "cell_type": "code",
   "execution_count": 373,
   "metadata": {},
   "outputs": [
    {
     "name": "stdout",
     "output_type": "stream",
     "text": [
      "probabilidad  : 0.10748769806117464\n",
      "probabilidad 2: 0.10748769707458694\n",
      "mean:  0.0\n",
      "variance:  1.0\n",
      "skew:  0.0\n",
      "kurtosis:  0.0\n"
     ]
    }
   ],
   "source": [
    "mu = 300 \n",
    "sigma = 50 \n",
    "x = 362 #valor a predecir\n",
    "y = 0\n",
    "#CON LA RESTA CALCULO LA PROBABILIDAD ENTRE UN RANGO:\n",
    "cdf_probability = norm.cdf(x, mu, sigma) - norm.cdf(y, mu, sigma)\n",
    "#CON 1- PUEDO CALCULAR LA PROB. DE QUE ESE SUELDO SEA >=:\n",
    "print(\"probabilidad  :\", 1-cdf_probability)\n",
    "\n",
    "#OTRA FORMA, SIN EL -1\n",
    "print(\"probabilidad 2:\", norm.sf(x, mu, sigma))\n",
    "\n",
    "mean, var, skew, kurt = norm.stats(moments='mvsk')\n",
    "print(\"mean: \", mean)\n",
    "print(\"variance: \", var)\n",
    "print(\"skew: \", skew)\n",
    "print(\"kurtosis: \", kurt)"
   ]
  },
  {
   "cell_type": "code",
   "execution_count": 374,
   "metadata": {},
   "outputs": [
    {
     "name": "stdout",
     "output_type": "stream",
     "text": [
      "0.010847979923665596\n",
      "0.9896821385765826\n",
      "mean:  0.0\n",
      "variance:  1.0\n",
      "skew:  0.0\n",
      "kurtosis:  0.0\n"
     ]
    }
   ],
   "source": [
    "mu = 39989.46476 #mean\n",
    "sigma = 12878.74956 #std\n",
    "x = 70000 #sueldo: valor a predecir\n",
    "y = 0\n",
    "#CON LA RESTA CALCULO LA PROBABILIDAD ENTRE UN RANGO:\n",
    "cdf_probability = norm.cdf(x, mu, sigma) - norm.cdf(y, mu, sigma)\n",
    "#CON 1- PUEDO CALCULAR LA PROB. DE QUE ESE SUELDO SEA IGUAL O MAYOR:\n",
    "print(1-cdf_probability)\n",
    "\n",
    "print(norm.sf(x, mu, sigma)*100)\n",
    "\n",
    "mean, var, skew, kurt = norm.stats(moments='mvsk')\n",
    "print(\"mean: \", mean)\n",
    "print(\"variance: \", var)\n",
    "print(\"skew: \", skew)\n",
    "print(\"kurtosis: \", kurt)"
   ]
  },
  {
   "cell_type": "markdown",
   "metadata": {},
   "source": [
    "## 1.2 la misma distribución, pero con 500 y 1000 bins:"
   ]
  },
  {
   "cell_type": "code",
   "execution_count": 375,
   "metadata": {},
   "outputs": [
    {
     "data": {
      "image/png": "[encoded data removed]",
      "text/plain": [
       "<Figure size 432x288 with 1 Axes>"
      ]
     },
     "metadata": {
      "needs_background": "light"
     },
     "output_type": "display_data"
    }
   ],
   "source": [
    "bins=500\n",
    "plot.hist(ingresos, bins, color='cyan')\n",
    "plot.show()"
   ]
  },
  {
   "cell_type": "code",
   "execution_count": 376,
   "metadata": {},
   "outputs": [
    {
     "data": {
      "image/png": "[encoded data removed]",
      "text/plain": [
       "<Figure size 432x288 with 1 Axes>"
      ]
     },
     "metadata": {
      "needs_background": "light"
     },
     "output_type": "display_data"
    }
   ],
   "source": [
    "bins=1000\n",
    "plot.hist(ingresos, bins)\n",
    "plot.show()"
   ]
  },
  {
   "cell_type": "markdown",
   "metadata": {},
   "source": [
    "## 1.3 genero un outlier para visualizar el resultado"
   ]
  },
  {
   "cell_type": "code",
   "execution_count": 377,
   "metadata": {},
   "outputs": [
    {
     "data": {
      "image/png": "[encoded data removed]",
      "text/plain": [
       "<Figure size 432x288 with 1 Axes>"
      ]
     },
     "metadata": {
      "needs_background": "light"
     },
     "output_type": "display_data"
    }
   ],
   "source": [
    "ingresos = np.append(ingresos, [400000])\n",
    "bins=500\n",
    "plot.hist(ingresos, bins, color='orange')\n",
    "plot.show()"
   ]
  },
  {
   "cell_type": "markdown",
   "metadata": {},
   "source": [
    "# 2. Graficando la moda"
   ]
  },
  {
   "cell_type": "code",
   "execution_count": 378,
   "metadata": {},
   "outputs": [
    {
     "name": "stdout",
     "output_type": "stream",
     "text": [
      "[10  4  3  1  2 10  4  4  7  1  1  8  4  2  1  7  3  9 11  3  4  1  4  5\n",
      "  7 11  7  5  7  4 10  4  1  6  7  5  6  2  6  2 10  4  7  7  9  6 11 11\n",
      "  3 11  1 10  1  4  2  3  1  4  3  7  8  3 11 10 10  7  9  6  7  2  3  2\n",
      "  7  9  9  6  3  5  3  8  7  2  1  9  1  5  9  2 11  4  2  7  1  6  5 10\n",
      "  5 11  5  1]\n",
      "media  5.46\n",
      "median 5.0\n",
      "std    3.1919273174682408\n",
      "moda   18\n"
     ]
    },
    {
     "data": {
      "image/png": "[encoded data removed]",
      "text/plain": [
       "<Figure size 432x288 with 1 Axes>"
      ]
     },
     "metadata": {
      "needs_background": "light"
     },
     "output_type": "display_data"
    }
   ],
   "source": [
    "cuerdas = np.random.randint(low=1, high=12, size=100)\n",
    "print(cuerdas)\n",
    "plot.hist(cuerdas)\n",
    "\n",
    "print(\"media \", np.mean(cuerdas))\n",
    "print(\"median\", np.median(cuerdas))\n",
    "print(\"std   \", np.std(cuerdas))\n",
    "conteo = np.bincount(cuerdas)\n",
    "print(\"moda  \", np.argmax(cuerdas))"
   ]
  },
  {
   "cell_type": "markdown",
   "metadata": {},
   "source": [
    "# 3. <font color='green'>distribución uniforme</font>\n",
    "todos los valores tienen la misma probabilidad de ocurrir"
   ]
  },
  {
   "cell_type": "code",
   "execution_count": 379,
   "metadata": {},
   "outputs": [
    {
     "data": {
      "image/png": "[encoded data removed]",
      "text/plain": [
       "<Figure size 432x288 with 1 Axes>"
      ]
     },
     "metadata": {
      "needs_background": "light"
     },
     "output_type": "display_data"
    }
   ],
   "source": [
    "values = np.random.uniform(0, 20.0, 1000)  \n",
    "plot.hist(values, 40)  \n",
    "plot.show() "
   ]
  },
  {
   "cell_type": "markdown",
   "metadata": {},
   "source": [
    "## 3.1 idem, pero con 10.000 y 100.000 sucesos"
   ]
  },
  {
   "cell_type": "code",
   "execution_count": 380,
   "metadata": {},
   "outputs": [
    {
     "data": {
      "image/png": "[encoded data removed]",
      "text/plain": [
       "<Figure size 432x288 with 1 Axes>"
      ]
     },
     "metadata": {
      "needs_background": "light"
     },
     "output_type": "display_data"
    }
   ],
   "source": [
    "values = np.random.uniform(0, 20.0, 10000)  \n",
    "plot.hist(values, 40, color='skyblue')  \n",
    "plot.show() "
   ]
  },
  {
   "cell_type": "code",
   "execution_count": 381,
   "metadata": {},
   "outputs": [
    {
     "data": {
      "image/png": "[encoded data removed]",
      "text/plain": [
       "<Figure size 432x288 with 1 Axes>"
      ]
     },
     "metadata": {
      "needs_background": "light"
     },
     "output_type": "display_data"
    }
   ],
   "source": [
    "values = np.random.uniform(0, 20.0, 100000)  \n",
    "plot.hist(values, 40)  \n",
    "plot.show() "
   ]
  },
  {
   "cell_type": "markdown",
   "metadata": {},
   "source": [
    "# 4. Distribución <font color='green'>Gaussiana o normal</font>"
   ]
  },
  {
   "cell_type": "code",
   "execution_count": 382,
   "metadata": {},
   "outputs": [
    {
     "data": {
      "image/png": "[encoded data removed]",
      "text/plain": [
       "<Figure size 432x288 with 1 Axes>"
      ]
     },
     "metadata": {
      "needs_background": "light"
     },
     "output_type": "display_data"
    }
   ],
   "source": [
    "mu = 5.0  \n",
    "sigma = 2.0  \n",
    "values = np.random.normal(mu, sigma, 10000)  \n",
    "plot.hist(values, 50)  \n",
    "plot.show()  "
   ]
  },
  {
   "cell_type": "markdown",
   "metadata": {},
   "source": [
    "# 5. <font color='green'>Exponencial</font>\n",
    "\n",
    "1. para valores continuos\n",
    "2. fenómenos que crecen con mayor rapidez (ej: población de bacterias, triplica su número x hora)\n",
    "3. para variables que describen el tiempo hasta que se produce un determinado suceso\n",
    "4. epende de un único parámetro  α  que debe ser positivo"
   ]
  },
  {
   "cell_type": "code",
   "execution_count": 383,
   "metadata": {},
   "outputs": [
    {
     "name": "stdout",
     "output_type": "stream",
     "text": [
      "mean:  1.0\n",
      "variance:  1.0\n",
      "skew:  2.0\n",
      "kurtosis:  6.0\n"
     ]
    },
    {
     "data": {
      "image/png": "[encoded data removed]",
      "text/plain": [
       "<Figure size 432x288 with 1 Axes>"
      ]
     },
     "metadata": {
      "needs_background": "light"
     },
     "output_type": "display_data"
    }
   ],
   "source": [
    "from scipy.stats import expon  \n",
    "import matplotlib.pyplot as plt\n",
    "\n",
    "x = np.arange(0, 7, 0.01)\n",
    "res = expon.pdf(x)\n",
    "plot.plot(x, res)\n",
    "\n",
    "mean, var, skew, kurt = expon.stats(moments='mvsk')\n",
    "print(\"mean: \", mean)\n",
    "print(\"variance: \", var)\n",
    "print(\"skew: \", skew)\n",
    "print(\"kurtosis: \", kurt)"
   ]
  },
  {
   "cell_type": "markdown",
   "metadata": {},
   "source": [
    "# 6. <font color='green'>funcion de probabilidad</font>\n",
    "para establecer la forma de la distribución"
   ]
  },
  {
   "cell_type": "code",
   "execution_count": 384,
   "metadata": {},
   "outputs": [
    {
     "data": {
      "text/plain": [
       "[<matplotlib.lines.Line2D at 0x21078370760>]"
      ]
     },
     "execution_count": 384,
     "metadata": {},
     "output_type": "execute_result"
    },
    {
     "data": {
      "image/png": "[encoded data removed]",
      "text/plain": [
       "<Figure size 432x288 with 1 Axes>"
      ]
     },
     "metadata": {
      "needs_background": "light"
     },
     "output_type": "display_data"
    }
   ],
   "source": [
    "from scipy.stats import binom  \n",
    "n, p = 10, 0.3  \n",
    "x = np.arange(0, 6, 0.001)  \n",
    "plot.plot(x, binom.pmf(x, n, p))  "
   ]
  },
  {
   "cell_type": "markdown",
   "metadata": {},
   "source": [
    "# 7. <font color='green'>Distribución de Poisson</font>\n",
    "1. se utiliza para detectar la probabilidad de que ocurra un suceso raro o de probabilidad muy pequeña.\n",
    "2. probabilidd de que ocurra un determinado número de eventos durante cierto tiempo"
   ]
  },
  {
   "cell_type": "markdown",
   "metadata": {},
   "source": [
    "## 7.1 ejemplo (casi) teórico"
   ]
  },
  {
   "cell_type": "code",
   "execution_count": 385,
   "metadata": {},
   "outputs": [
    {
     "name": "stdout",
     "output_type": "stream",
     "text": [
      "media:  300.0 \n",
      "varia:  300.0 \n",
      "skew :  0.05773502691896258 \n",
      "kurto: 0.0033333333333333335\n"
     ]
    },
    {
     "data": {
      "image/png": "[encoded data removed]",
      "text/plain": [
       "<Figure size 432x288 with 1 Axes>"
      ]
     },
     "metadata": {
      "needs_background": "light"
     },
     "output_type": "display_data"
    }
   ],
   "source": [
    "from scipy.stats import poisson\n",
    "\n",
    "#la probabilidad de que, considerando que el eje X representa numero de personas que entran \n",
    "#a una tienda en un mes, el hecho de que entren 325 personas es de aproximadamente del 0.7%\n",
    "mu = 300  \n",
    "x = np.arange(200, 400, 3)  \n",
    "plot.plot(x, poisson.pmf(x, mu))\n",
    "\n",
    "mean, var, skew, kurt = poisson.stats(mu, moments='mvsk')\n",
    "print(\"media: \", mean, \"\\nvaria: \", var, \"\\nskew : \", skew, \"\\nkurto:\", kurt)"
   ]
  },
  {
   "cell_type": "markdown",
   "metadata": {},
   "source": [
    "## 7.2 ejemplo de los nacimientos"
   ]
  },
  {
   "cell_type": "code",
   "execution_count": 386,
   "metadata": {},
   "outputs": [
    {
     "data": {
      "text/plain": [
       "0.052129252364199796"
      ]
     },
     "execution_count": 386,
     "metadata": {},
     "output_type": "execute_result"
    }
   ],
   "source": [
    "#que se produzcan 2 nacimientos con un promedio de 7 x semana\n",
    "k = 3\n",
    "mu = 7\n",
    "res = poisson.pmf(k, mu) #Probability mass function\n",
    "res"
   ]
  },
  {
   "cell_type": "code",
   "execution_count": 387,
   "metadata": {},
   "outputs": [
    {
     "name": "stdout",
     "output_type": "stream",
     "text": [
      "media:  7.0 \n",
      "varia:  7.0 \n",
      "skew :  0.3779644730092272 \n",
      "kurto: 0.14285714285714285\n"
     ]
    },
    {
     "data": {
      "image/png": "[encoded data removed]",
      "text/plain": [
       "<Figure size 432x288 with 1 Axes>"
      ]
     },
     "metadata": {
      "needs_background": "light"
     },
     "output_type": "display_data"
    }
   ],
   "source": [
    "x = np.arange(0,14,1)\n",
    "plot.plot(x, poisson.pmf(x, mu), color='red')\n",
    "\n",
    "mean, var, skew, kurt = poisson.stats(mu, moments='mvsk')\n",
    "print(\"media: \", mean, \"\\nvaria: \", var, \"\\nskew : \", skew, \"\\nkurto:\", kurt)"
   ]
  },
  {
   "cell_type": "markdown",
   "metadata": {},
   "source": [
    "## 7.3 ejemplo de los erizos"
   ]
  },
  {
   "cell_type": "code",
   "execution_count": 388,
   "metadata": {},
   "outputs": [
    {
     "data": {
      "text/plain": [
       "0.16803135574154085"
      ]
     },
     "execution_count": 388,
     "metadata": {},
     "output_type": "execute_result"
    }
   ],
   "source": [
    "#Se ha realizado un estudio por el que se ha deducido que los erizos cruzan la autovía a razón de 1 cada 20 minutos. \n",
    "#probabilidad de que 4 erizos crucen la autovía en una hora\n",
    "k = 4\n",
    "mu = 3\n",
    "res = poisson.pmf(k, mu) #Probability mass function\n",
    "res"
   ]
  },
  {
   "cell_type": "code",
   "execution_count": 389,
   "metadata": {},
   "outputs": [
    {
     "name": "stdout",
     "output_type": "stream",
     "text": [
      "media:  3.0 \n",
      "varia:  3.0 \n",
      "skew :  0.5773502691896257 \n",
      "kurto: 0.3333333333333333\n"
     ]
    },
    {
     "data": {
      "image/png": "[encoded data removed]",
      "text/plain": [
       "<Figure size 432x288 with 1 Axes>"
      ]
     },
     "metadata": {
      "needs_background": "light"
     },
     "output_type": "display_data"
    }
   ],
   "source": [
    "x = np.arange(-2,9,1)\n",
    "plot.plot(x, poisson.pmf(x, mu), color='red')\n",
    "\n",
    "mean, var, skew, kurt = poisson.stats(mu, moments='mvsk')\n",
    "print(\"media: \", mean, \"\\nvaria: \", var, \"\\nskew : \", skew, \"\\nkurto:\", kurt)"
   ]
  },
  {
   "cell_type": "markdown",
   "metadata": {},
   "source": [
    "## 7.4 ejemplo de accidentes\n",
    "promedio de 3 por mes\n",
    "\n",
    "1. Que no ocurra ningún accidente en un mes\n",
    "2. que como máximo ocurran 2 accidentes en un mes\n",
    "3. Que ocurran 30 accidentes en un año\n",
    "4. que ocurran 8 accidentes en un trimestre"
   ]
  },
  {
   "cell_type": "code",
   "execution_count": 390,
   "metadata": {},
   "outputs": [
    {
     "name": "stdout",
     "output_type": "stream",
     "text": [
      "prob. de ningún accidente por mes:  4.978706836786395\n"
     ]
    }
   ],
   "source": [
    "k = 0\n",
    "mu = 3\n",
    "res = poisson.pmf(k, mu) \n",
    "print(\"prob. de ningún accidente por mes: \", res*100)"
   ]
  },
  {
   "cell_type": "code",
   "execution_count": 391,
   "metadata": {},
   "outputs": [
    {
     "name": "stdout",
     "output_type": "stream",
     "text": [
      "prob. de como máximo 2 accidentes por mes:  22.404180765538776\n"
     ]
    }
   ],
   "source": [
    "k = 2\n",
    "mu = 3\n",
    "res = poisson.pmf(k, mu) \n",
    "print(\"prob. de como máximo 2 accidentes por mes: \", res*100)"
   ]
  },
  {
   "cell_type": "code",
   "execution_count": 392,
   "metadata": {},
   "outputs": [
    {
     "name": "stdout",
     "output_type": "stream",
     "text": [
      "prob. de 30 accidentes al año:  0.04273794143235532\n",
      "media:  36.0 \n",
      "varia:  36.0 \n",
      "skew :  0.16666666666666666 \n",
      "kurto: 0.027777777777777776\n"
     ]
    },
    {
     "data": {
      "image/png": "[encoded data removed]",
      "text/plain": [
       "<Figure size 432x288 with 1 Axes>"
      ]
     },
     "metadata": {
      "needs_background": "light"
     },
     "output_type": "display_data"
    }
   ],
   "source": [
    "k = 30\n",
    "mu = 36\n",
    "res = poisson.pmf(k, mu) \n",
    "print(\"prob. de 30 accidentes al año: \", res)\n",
    "\n",
    "x = np.arange(0,80,1)\n",
    "plot.plot(x, poisson.pmf(x, mu), color='red')\n",
    "\n",
    "mean, var, skew, kurt = poisson.stats(mu, moments='mvsk')\n",
    "print(\"media: \", mean, \"\\nvaria: \", var, \"\\nskew : \", skew, \"\\nkurto:\", kurt)"
   ]
  },
  {
   "cell_type": "code",
   "execution_count": 393,
   "metadata": {},
   "outputs": [
    {
     "name": "stdout",
     "output_type": "stream",
     "text": [
      "prob. de 8 accidentes en un trimestre:  13.175564000952278\n"
     ]
    }
   ],
   "source": [
    "k = 8\n",
    "mu = 9\n",
    "res = poisson.pmf(k, mu) \n",
    "print(\"prob. de 8 accidentes en un trimestre: \", res*100)"
   ]
  },
  {
   "cell_type": "markdown",
   "metadata": {},
   "source": [
    "a este markdown lo hago para ver cómo se comporta git, y luego subirlo a github"
   ]
  },
  {
   "cell_type": "code",
   "execution_count": null,
   "metadata": {},
   "outputs": [],
   "source": []
  }
 ],
 "metadata": {
  "kernelspec": {
   "display_name": "Python 3",
   "language": "python",
   "name": "python3"
  },
  "language_info": {
   "codemirror_mode": {
    "name": "ipython",
    "version": 3
   },
   "file_extension": ".py",
   "mimetype": "text/x-python",
   "name": "python",
   "nbconvert_exporter": "python",
   "pygments_lexer": "ipython3",
   "version": "3.8.3"
  }
 },
 "nbformat": 4,
 "nbformat_minor": 4
}
