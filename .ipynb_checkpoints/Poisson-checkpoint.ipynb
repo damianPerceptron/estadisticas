{
 "cells": [
  {
   "cell_type": "markdown",
   "metadata": {},
   "source": [
    "# Distribución de <font color='red'> Poisson</font>"
   ]
  },
  {
   "cell_type": "markdown",
   "metadata": {},
   "source": [
    "distribución de probabilidad de una variable aleatoria `discreta` que proprocina la probabilidad de ocurrencia de un suceso un número de veces **`k`**, en un intervalo de tiempo, longitud, área, etc.\n",
    "\n",
    "1. las variables deben ser aleatorias\n",
    "2. los sucesos deben ser independientes"
   ]
  },
  {
   "attachments": {
    "image.png": {
     "image/png": "[encoded data removed]"
    }
   },
   "cell_type": "markdown",
   "metadata": {},
   "source": [
    "![image.png](attachment:image.png)"
   ]
  },
  {
   "cell_type": "markdown",
   "metadata": {},
   "source": [
    "* `u` = número **medio** de veces que ocurre nuestro suceso dentro del intervalo de tiempo, área, etc.\n",
    "* `e` = número neperiano = 2.7182818284 (constante)"
   ]
  },
  {
   "cell_type": "code",
   "execution_count": 1,
   "metadata": {},
   "outputs": [],
   "source": [
    "from scipy.stats import poisson as p\n",
    "import numpy as np"
   ]
  },
  {
   "cell_type": "markdown",
   "metadata": {},
   "source": [
    "promedio ***(mu)*** de nacimientos de varones en una semana;\n",
    "probabilidad de que nazcan 3 varones en una semana (k=3)"
   ]
  },
  {
   "cell_type": "code",
   "execution_count": 14,
   "metadata": {},
   "outputs": [
    {
     "data": {
      "text/plain": [
       "5.21292523641998"
      ]
     },
     "execution_count": 14,
     "metadata": {},
     "output_type": "execute_result"
    }
   ],
   "source": [
    "k = 3\n",
    "mu = 7\n",
    "res = p.pmf(k, mu) #Probability mass function\n",
    "res*100"
   ]
  },
  {
   "cell_type": "markdown",
   "metadata": {},
   "source": [
    "que nazcan menos de 3 en una semana"
   ]
  },
  {
   "cell_type": "code",
   "execution_count": 15,
   "metadata": {},
   "outputs": [
    {
     "name": "stdout",
     "output_type": "stream",
     "text": [
      "2.9636163880521775\n"
     ]
    }
   ],
   "source": [
    "mu = 7\n",
    "subtotal=0\n",
    "for k in range(3):\n",
    "    subtotal += p.pmf(k, mu)\n",
    "print(subtotal*100)"
   ]
  },
  {
   "cell_type": "markdown",
   "metadata": {},
   "source": [
    "se venden 3 pólizas por semana.\n",
    "* que se venda alguna póliza\n",
    "* más de 2 y menos de 5\n",
    "* que en 1 día se venda 1 poliza (tomando como referencia una semana de 5 días)"
   ]
  },
  {
   "cell_type": "code",
   "execution_count": 16,
   "metadata": {},
   "outputs": [
    {
     "name": "stdout",
     "output_type": "stream",
     "text": [
      "95.0212931632136\n"
     ]
    }
   ],
   "source": [
    "#probabilidad: k > 0 (que se venda alguna póliza)\n",
    "mu = 3\n",
    "k = 0 #se aplica la función de Probabilidad = P(k>0) = 1-P(k=0)\n",
    "res = 1 - p.pmf(k, mu)\n",
    "print(res*100)"
   ]
  },
  {
   "cell_type": "code",
   "execution_count": 17,
   "metadata": {},
   "outputs": [
    {
     "name": "stdout",
     "output_type": "stream",
     "text": [
      "61.611497105231635\n"
     ]
    }
   ],
   "source": [
    "#probabilidad: k>=2; k<5\n",
    "mu = 3\n",
    "subtotal=0\n",
    "for k in range(2, 5):\n",
    "    subtotal += p.pmf(k, mu)\n",
    "print(subtotal*100)"
   ]
  },
  {
   "cell_type": "code",
   "execution_count": 18,
   "metadata": {},
   "outputs": [
    {
     "name": "stdout",
     "output_type": "stream",
     "text": [
      "32.92869816564159\n"
     ]
    }
   ],
   "source": [
    "#3 es la media para 7 días. recalcular 'mu' antes de calcular el pmf\n",
    "mu = 3/5\n",
    "k = 1\n",
    "res = p.pmf(k, mu)\n",
    "print (res*100)"
   ]
  },
  {
   "cell_type": "markdown",
   "metadata": {},
   "source": [
    "1. la media(K) = `mu`\n",
    "2. la varianza(k) = `mu`\n",
    "3. la std(k) = raíz cuadrada de la varianza"
   ]
  },
  {
   "cell_type": "code",
   "execution_count": 19,
   "metadata": {},
   "outputs": [
    {
     "name": "stdout",
     "output_type": "stream",
     "text": [
      "media:  3.0 \n",
      "varia:  3.0 \n",
      "skew :  0.5773502691896257 \n",
      "kurto: 0.3333333333333333 \n",
      "std  : 1.7320508075688772\n"
     ]
    }
   ],
   "source": [
    "mu = 3\n",
    "mean, var, skew, kurt = p.stats(mu, moments='mvsk')\n",
    "print(\"media: \", mean, \"\\nvaria: \", var, \"\\nskew : \", skew, \"\\nkurto:\", kurt, \"\\nstd  :\", p.std(mu))"
   ]
  },
  {
   "cell_type": "code",
   "execution_count": null,
   "metadata": {},
   "outputs": [],
   "source": []
  },
  {
   "cell_type": "code",
   "execution_count": null,
   "metadata": {},
   "outputs": [],
   "source": []
  },
  {
   "cell_type": "code",
   "execution_count": null,
   "metadata": {},
   "outputs": [],
   "source": []
  }
 ],
 "metadata": {
  "kernelspec": {
   "display_name": "Python 3",
   "language": "python",
   "name": "python3"
  },
  "language_info": {
   "codemirror_mode": {
    "name": "ipython",
    "version": 3
   },
   "file_extension": ".py",
   "mimetype": "text/x-python",
   "name": "python",
   "nbconvert_exporter": "python",
   "pygments_lexer": "ipython3",
   "version": "3.8.3"
  }
 },
 "nbformat": 4,
 "nbformat_minor": 4
}
